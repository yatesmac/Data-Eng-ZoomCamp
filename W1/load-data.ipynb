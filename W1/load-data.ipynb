{
 "cells": [
  {
   "cell_type": "code",
   "execution_count": 3,
   "id": "844100ed",
   "metadata": {},
   "outputs": [],
   "source": [
    "import pandas as pd"
   ]
  },
  {
   "cell_type": "code",
   "execution_count": 4,
   "id": "9d95a33e",
   "metadata": {},
   "outputs": [
    {
     "data": {
      "text/plain": [
       "100000"
      ]
     },
     "execution_count": 4,
     "metadata": {},
     "output_type": "execute_result"
    }
   ],
   "source": [
    "# Load Data\n",
    "df_iter = pd.read_csv('taxi.csv', iterator=True, chunksize=100000, compression='gzip')\n",
    "df = next(df_iter)\n",
    "len(df)"
   ]
  },
  {
   "cell_type": "code",
   "execution_count": 5,
   "id": "46a7c518",
   "metadata": {},
   "outputs": [
    {
     "data": {
      "text/html": [
       "<div>\n",
       "<style scoped>\n",
       "    .dataframe tbody tr th:only-of-type {\n",
       "        vertical-align: middle;\n",
       "    }\n",
       "\n",
       "    .dataframe tbody tr th {\n",
       "        vertical-align: top;\n",
       "    }\n",
       "\n",
       "    .dataframe thead th {\n",
       "        text-align: right;\n",
       "    }\n",
       "</style>\n",
       "<table border=\"1\" class=\"dataframe\">\n",
       "  <thead>\n",
       "    <tr style=\"text-align: right;\">\n",
       "      <th></th>\n",
       "      <th>0</th>\n",
       "      <th>1</th>\n",
       "      <th>2</th>\n",
       "      <th>3</th>\n",
       "      <th>4</th>\n",
       "    </tr>\n",
       "  </thead>\n",
       "  <tbody>\n",
       "    <tr>\n",
       "      <th>VendorID</th>\n",
       "      <td>2</td>\n",
       "      <td>1</td>\n",
       "      <td>1</td>\n",
       "      <td>1</td>\n",
       "      <td>2</td>\n",
       "    </tr>\n",
       "    <tr>\n",
       "      <th>lpep_pickup_datetime</th>\n",
       "      <td>2019-10-01 00:26:02</td>\n",
       "      <td>2019-10-01 00:18:11</td>\n",
       "      <td>2019-10-01 00:09:31</td>\n",
       "      <td>2019-10-01 00:37:40</td>\n",
       "      <td>2019-10-01 00:08:13</td>\n",
       "    </tr>\n",
       "    <tr>\n",
       "      <th>lpep_dropoff_datetime</th>\n",
       "      <td>2019-10-01 00:39:58</td>\n",
       "      <td>2019-10-01 00:22:38</td>\n",
       "      <td>2019-10-01 00:24:47</td>\n",
       "      <td>2019-10-01 00:41:49</td>\n",
       "      <td>2019-10-01 00:17:56</td>\n",
       "    </tr>\n",
       "    <tr>\n",
       "      <th>store_and_fwd_flag</th>\n",
       "      <td>N</td>\n",
       "      <td>N</td>\n",
       "      <td>N</td>\n",
       "      <td>N</td>\n",
       "      <td>N</td>\n",
       "    </tr>\n",
       "    <tr>\n",
       "      <th>RatecodeID</th>\n",
       "      <td>1</td>\n",
       "      <td>1</td>\n",
       "      <td>1</td>\n",
       "      <td>1</td>\n",
       "      <td>1</td>\n",
       "    </tr>\n",
       "    <tr>\n",
       "      <th>PULocationID</th>\n",
       "      <td>112</td>\n",
       "      <td>43</td>\n",
       "      <td>255</td>\n",
       "      <td>181</td>\n",
       "      <td>97</td>\n",
       "    </tr>\n",
       "    <tr>\n",
       "      <th>DOLocationID</th>\n",
       "      <td>196</td>\n",
       "      <td>263</td>\n",
       "      <td>228</td>\n",
       "      <td>181</td>\n",
       "      <td>188</td>\n",
       "    </tr>\n",
       "    <tr>\n",
       "      <th>passenger_count</th>\n",
       "      <td>1</td>\n",
       "      <td>1</td>\n",
       "      <td>2</td>\n",
       "      <td>1</td>\n",
       "      <td>1</td>\n",
       "    </tr>\n",
       "    <tr>\n",
       "      <th>trip_distance</th>\n",
       "      <td>5.88</td>\n",
       "      <td>0.8</td>\n",
       "      <td>7.5</td>\n",
       "      <td>0.9</td>\n",
       "      <td>2.52</td>\n",
       "    </tr>\n",
       "    <tr>\n",
       "      <th>fare_amount</th>\n",
       "      <td>18.0</td>\n",
       "      <td>5.0</td>\n",
       "      <td>21.5</td>\n",
       "      <td>5.5</td>\n",
       "      <td>10.0</td>\n",
       "    </tr>\n",
       "    <tr>\n",
       "      <th>extra</th>\n",
       "      <td>0.5</td>\n",
       "      <td>3.25</td>\n",
       "      <td>0.5</td>\n",
       "      <td>0.5</td>\n",
       "      <td>0.5</td>\n",
       "    </tr>\n",
       "    <tr>\n",
       "      <th>mta_tax</th>\n",
       "      <td>0.5</td>\n",
       "      <td>0.5</td>\n",
       "      <td>0.5</td>\n",
       "      <td>0.5</td>\n",
       "      <td>0.5</td>\n",
       "    </tr>\n",
       "    <tr>\n",
       "      <th>tip_amount</th>\n",
       "      <td>0.0</td>\n",
       "      <td>0.0</td>\n",
       "      <td>0.0</td>\n",
       "      <td>0.0</td>\n",
       "      <td>2.26</td>\n",
       "    </tr>\n",
       "    <tr>\n",
       "      <th>tolls_amount</th>\n",
       "      <td>0.0</td>\n",
       "      <td>0.0</td>\n",
       "      <td>0.0</td>\n",
       "      <td>0.0</td>\n",
       "      <td>0.0</td>\n",
       "    </tr>\n",
       "    <tr>\n",
       "      <th>ehail_fee</th>\n",
       "      <td>NaN</td>\n",
       "      <td>NaN</td>\n",
       "      <td>NaN</td>\n",
       "      <td>NaN</td>\n",
       "      <td>NaN</td>\n",
       "    </tr>\n",
       "    <tr>\n",
       "      <th>improvement_surcharge</th>\n",
       "      <td>0.3</td>\n",
       "      <td>0.3</td>\n",
       "      <td>0.3</td>\n",
       "      <td>0.3</td>\n",
       "      <td>0.3</td>\n",
       "    </tr>\n",
       "    <tr>\n",
       "      <th>total_amount</th>\n",
       "      <td>19.3</td>\n",
       "      <td>9.05</td>\n",
       "      <td>22.8</td>\n",
       "      <td>6.8</td>\n",
       "      <td>13.56</td>\n",
       "    </tr>\n",
       "    <tr>\n",
       "      <th>payment_type</th>\n",
       "      <td>2</td>\n",
       "      <td>2</td>\n",
       "      <td>2</td>\n",
       "      <td>2</td>\n",
       "      <td>1</td>\n",
       "    </tr>\n",
       "    <tr>\n",
       "      <th>trip_type</th>\n",
       "      <td>1.0</td>\n",
       "      <td>1.0</td>\n",
       "      <td>1.0</td>\n",
       "      <td>1.0</td>\n",
       "      <td>1.0</td>\n",
       "    </tr>\n",
       "    <tr>\n",
       "      <th>congestion_surcharge</th>\n",
       "      <td>0.0</td>\n",
       "      <td>0.0</td>\n",
       "      <td>0.0</td>\n",
       "      <td>0.0</td>\n",
       "      <td>0.0</td>\n",
       "    </tr>\n",
       "  </tbody>\n",
       "</table>\n",
       "</div>"
      ],
      "text/plain": [
       "                                         0                    1  \\\n",
       "VendorID                                 2                    1   \n",
       "lpep_pickup_datetime   2019-10-01 00:26:02  2019-10-01 00:18:11   \n",
       "lpep_dropoff_datetime  2019-10-01 00:39:58  2019-10-01 00:22:38   \n",
       "store_and_fwd_flag                       N                    N   \n",
       "RatecodeID                               1                    1   \n",
       "PULocationID                           112                   43   \n",
       "DOLocationID                           196                  263   \n",
       "passenger_count                          1                    1   \n",
       "trip_distance                         5.88                  0.8   \n",
       "fare_amount                           18.0                  5.0   \n",
       "extra                                  0.5                 3.25   \n",
       "mta_tax                                0.5                  0.5   \n",
       "tip_amount                             0.0                  0.0   \n",
       "tolls_amount                           0.0                  0.0   \n",
       "ehail_fee                              NaN                  NaN   \n",
       "improvement_surcharge                  0.3                  0.3   \n",
       "total_amount                          19.3                 9.05   \n",
       "payment_type                             2                    2   \n",
       "trip_type                              1.0                  1.0   \n",
       "congestion_surcharge                   0.0                  0.0   \n",
       "\n",
       "                                         2                    3  \\\n",
       "VendorID                                 1                    1   \n",
       "lpep_pickup_datetime   2019-10-01 00:09:31  2019-10-01 00:37:40   \n",
       "lpep_dropoff_datetime  2019-10-01 00:24:47  2019-10-01 00:41:49   \n",
       "store_and_fwd_flag                       N                    N   \n",
       "RatecodeID                               1                    1   \n",
       "PULocationID                           255                  181   \n",
       "DOLocationID                           228                  181   \n",
       "passenger_count                          2                    1   \n",
       "trip_distance                          7.5                  0.9   \n",
       "fare_amount                           21.5                  5.5   \n",
       "extra                                  0.5                  0.5   \n",
       "mta_tax                                0.5                  0.5   \n",
       "tip_amount                             0.0                  0.0   \n",
       "tolls_amount                           0.0                  0.0   \n",
       "ehail_fee                              NaN                  NaN   \n",
       "improvement_surcharge                  0.3                  0.3   \n",
       "total_amount                          22.8                  6.8   \n",
       "payment_type                             2                    2   \n",
       "trip_type                              1.0                  1.0   \n",
       "congestion_surcharge                   0.0                  0.0   \n",
       "\n",
       "                                         4  \n",
       "VendorID                                 2  \n",
       "lpep_pickup_datetime   2019-10-01 00:08:13  \n",
       "lpep_dropoff_datetime  2019-10-01 00:17:56  \n",
       "store_and_fwd_flag                       N  \n",
       "RatecodeID                               1  \n",
       "PULocationID                            97  \n",
       "DOLocationID                           188  \n",
       "passenger_count                          1  \n",
       "trip_distance                         2.52  \n",
       "fare_amount                           10.0  \n",
       "extra                                  0.5  \n",
       "mta_tax                                0.5  \n",
       "tip_amount                            2.26  \n",
       "tolls_amount                           0.0  \n",
       "ehail_fee                              NaN  \n",
       "improvement_surcharge                  0.3  \n",
       "total_amount                         13.56  \n",
       "payment_type                             1  \n",
       "trip_type                              1.0  \n",
       "congestion_surcharge                   0.0  "
      ]
     },
     "execution_count": 5,
     "metadata": {},
     "output_type": "execute_result"
    }
   ],
   "source": [
    "df.head().T"
   ]
  },
  {
   "cell_type": "code",
   "execution_count": 6,
   "id": "05afbc5d-14b1-42ef-8563-076cc2512868",
   "metadata": {},
   "outputs": [],
   "source": [
    "# Convert to DateTime Format\n",
    "df['lpep_pickup_datetime'] = pd.to_datetime(df['lpep_pickup_datetime'])\n",
    "df['lpep_dropoff_datetime'] = pd.to_datetime(df['lpep_dropoff_datetime'])"
   ]
  },
  {
   "cell_type": "code",
   "execution_count": 7,
   "id": "57cb774a-1fe1-4951-a26b-30e2f2c5d330",
   "metadata": {},
   "outputs": [
    {
     "data": {
      "text/plain": [
       "<sqlalchemy.engine.base.Connection at 0x7bc92ab1f8c0>"
      ]
     },
     "execution_count": 7,
     "metadata": {},
     "output_type": "execute_result"
    }
   ],
   "source": [
    "# Create Postgres Connection\n",
    "from sqlalchemy import create_engine\n",
    "\n",
    "user = 'postgres'\n",
    "password = 'postgres'\n",
    "host = 'localhost'\n",
    "port = '5432'\n",
    "db = 'ny_taxi'\n",
    "table_name = 'green_taxi_trips'\n",
    "\n",
    "engine = create_engine(f'postgresql://{user}:{password}@{host}:{port}/{db}')\n",
    "# Test Connection\n",
    "engine.connect()"
   ]
  },
  {
   "cell_type": "code",
   "execution_count": 8,
   "id": "d47bbec8-1d73-4a99-a054-1c3ca577a433",
   "metadata": {},
   "outputs": [
    {
     "name": "stdout",
     "output_type": "stream",
     "text": [
      "\n",
      "CREATE TABLE green_taxi_trips (\n",
      "\t\"VendorID\" BIGINT, \n",
      "\tlpep_pickup_datetime TIMESTAMP WITHOUT TIME ZONE, \n",
      "\tlpep_dropoff_datetime TIMESTAMP WITHOUT TIME ZONE, \n",
      "\tstore_and_fwd_flag TEXT, \n",
      "\t\"RatecodeID\" BIGINT, \n",
      "\t\"PULocationID\" BIGINT, \n",
      "\t\"DOLocationID\" BIGINT, \n",
      "\tpassenger_count BIGINT, \n",
      "\ttrip_distance FLOAT(53), \n",
      "\tfare_amount FLOAT(53), \n",
      "\textra FLOAT(53), \n",
      "\tmta_tax FLOAT(53), \n",
      "\ttip_amount FLOAT(53), \n",
      "\ttolls_amount FLOAT(53), \n",
      "\tehail_fee FLOAT(53), \n",
      "\timprovement_surcharge FLOAT(53), \n",
      "\ttotal_amount FLOAT(53), \n",
      "\tpayment_type BIGINT, \n",
      "\ttrip_type FLOAT(53), \n",
      "\tcongestion_surcharge FLOAT(53)\n",
      ")\n",
      "\n",
      "\n"
     ]
    }
   ],
   "source": [
    "print(pd.io.sql.get_schema(df, name=table_name, con=engine))"
   ]
  },
  {
   "cell_type": "code",
   "execution_count": 9,
   "id": "92a984d3-8e47-490f-ab84-939c7f18bf92",
   "metadata": {},
   "outputs": [
    {
     "data": {
      "text/plain": [
       "0"
      ]
     },
     "execution_count": 9,
     "metadata": {},
     "output_type": "execute_result"
    }
   ],
   "source": [
    "# Adding the column names\n",
    "df.head(n=0).to_sql(name=table_name, con=engine, if_exists='replace')"
   ]
  },
  {
   "cell_type": "code",
   "execution_count": 10,
   "id": "75091567",
   "metadata": {},
   "outputs": [
    {
     "data": {
      "text/plain": [
       "1000"
      ]
     },
     "execution_count": 10,
     "metadata": {},
     "output_type": "execute_result"
    }
   ],
   "source": [
    "# Adding first batch of rows\n",
    "df.to_sql(name=table_name, con=engine, if_exists='append')"
   ]
  },
  {
   "cell_type": "code",
   "execution_count": 11,
   "id": "e70700f1-60a4-4477-974e-ea6aa0b59a4f",
   "metadata": {},
   "outputs": [
    {
     "name": "stdout",
     "output_type": "stream",
     "text": [
      "Inserted another chunk... took 18.877 second(s)\n",
      "Inserted another chunk... took 18.352 second(s)\n"
     ]
    },
    {
     "name": "stderr",
     "output_type": "stream",
     "text": [
      "/tmp/ipykernel_20215/3749059077.py:4: DtypeWarning: Columns (3) have mixed types. Specify dtype option on import or set low_memory=False.\n",
      "  for df in df_iter:\n"
     ]
    },
    {
     "name": "stdout",
     "output_type": "stream",
     "text": [
      "Inserted another chunk... took 17.846 second(s)\n",
      "Inserted another chunk... took 11.338 second(s)\n",
      "All rows inserted!\n"
     ]
    }
   ],
   "source": [
    "# Adding the rest of the rows\n",
    "from time import time\n",
    "\n",
    "for df in df_iter:\n",
    "    t_start = time()\n",
    "    df['lpep_pickup_datetime'] = pd.to_datetime(df['lpep_pickup_datetime'])\n",
    "    df['lpep_dropoff_datetime'] = pd.to_datetime(df['lpep_dropoff_datetime'])\n",
    "    df.to_sql(name=table_name, con=engine, if_exists='append')\n",
    "    t_end = time()\n",
    "    print(f'Inserted another chunk... took {t_end - t_start:.3f} second(s)')\n",
    "else:\n",
    "    print('All rows inserted!') "
   ]
  },
  {
   "cell_type": "code",
   "execution_count": 12,
   "id": "c0c95316-900a-44f1-b081-55d26c3e5722",
   "metadata": {},
   "outputs": [
    {
     "data": {
      "text/plain": [
       "265"
      ]
     },
     "execution_count": 12,
     "metadata": {},
     "output_type": "execute_result"
    }
   ],
   "source": [
    "# Adding Zone Data\n",
    "df_zones=pd.read_csv(\"zones.csv\")\n",
    "table_name = 'zones'\n",
    "df_zones.head(n=0).to_sql(name=table_name, con=engine, if_exists='replace')\n",
    "df_zones.to_sql(name=table_name, con=engine, if_exists='append')\n"
   ]
  }
 ],
 "metadata": {
  "kernelspec": {
   "display_name": "base",
   "language": "python",
   "name": "python3"
  },
  "language_info": {
   "codemirror_mode": {
    "name": "ipython",
    "version": 3
   },
   "file_extension": ".py",
   "mimetype": "text/x-python",
   "name": "python",
   "nbconvert_exporter": "python",
   "pygments_lexer": "ipython3",
   "version": "3.12.5"
  }
 },
 "nbformat": 4,
 "nbformat_minor": 5
}
